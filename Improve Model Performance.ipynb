{
 "cells": [
  {
   "cell_type": "markdown",
   "id": "d4cc9ccd-930e-4f18-b28c-d7300e8c6405",
   "metadata": {},
   "source": [
    "# Improve Model Performance with Synthetic Data"
   ]
  },
  {
   "cell_type": "code",
   "execution_count": 1,
   "id": "caf278b2-0615-4272-854c-1b75b89a1edb",
   "metadata": {},
   "outputs": [],
   "source": [
    "import pandas as pd\n",
    "import numpy as np\n",
    "from sklearn.preprocessing import StandardScaler\n",
    "from sklearn.preprocessing import RobustScaler\n",
    "import matplotlib.ticker as ticker\n",
    "import matplotlib.pyplot as plt\n",
    "%matplotlib inline\n",
    "import seaborn as sns\n",
    "from sklearn.model_selection import train_test_split\n",
    "from scipy import stats\n",
    "from sklearn.ensemble import RandomForestRegressor\n",
    "from sklearn.neighbors import KNeighborsRegressor\n",
    "from sklearn.metrics import mean_squared_error, mean_absolute_error, r2_score\n",
    "import warnings\n",
    "warnings.filterwarnings(\"ignore\")"
   ]
  },
  {
   "cell_type": "code",
   "execution_count": 2,
   "id": "a114a185-af5a-431c-9189-4653c4b6e605",
   "metadata": {},
   "outputs": [],
   "source": [
    "stock_data = pd.read_csv(\"stockdata.csv\")"
   ]
  },
  {
   "cell_type": "code",
   "execution_count": 3,
   "id": "ce8b3c4d-276a-48cc-a56e-822a5a8df62c",
   "metadata": {},
   "outputs": [
    {
     "name": "stdout",
     "output_type": "stream",
     "text": [
      "<class 'pandas.core.frame.DataFrame'>\n",
      "RangeIndex: 171 entries, 0 to 170\n",
      "Data columns (total 24 columns):\n",
      " #   Column                   Non-Null Count  Dtype  \n",
      "---  ------                   --------------  -----  \n",
      " 0   beta                     171 non-null    float64\n",
      " 1   bookValue                171 non-null    float64\n",
      " 2   debtToEquity             171 non-null    float64\n",
      " 3   dividendRate             171 non-null    float64\n",
      " 4   dividendYield            171 non-null    float64\n",
      " 5   earningsGrowth           171 non-null    float64\n",
      " 6   ebitda                   171 non-null    float64\n",
      " 7   ebitdaMargins            171 non-null    float64\n",
      " 8   enterpriseToEbitda       171 non-null    float64\n",
      " 9   enterpriseToRevenue      171 non-null    float64\n",
      " 10  grossMargins             171 non-null    float64\n",
      " 11  heldPercentInsiders      171 non-null    float64\n",
      " 12  heldPercentInstitutions  171 non-null    float64\n",
      " 13  operatingMargins         171 non-null    float64\n",
      " 14  payoutRatio              171 non-null    float64\n",
      " 15  priceToBook              171 non-null    float64\n",
      " 16  profitMargins            171 non-null    float64\n",
      " 17  revenueGrowth            171 non-null    float64\n",
      " 18  sharesOutstanding        171 non-null    float64\n",
      " 19  trailingEps              171 non-null    float64\n",
      " 20  PE                       171 non-null    float64\n",
      " 21  ROE                      171 non-null    float64\n",
      " 22  ROCE                     171 non-null    float64\n",
      " 23  log_return               171 non-null    float64\n",
      "dtypes: float64(24)\n",
      "memory usage: 32.2 KB\n"
     ]
    }
   ],
   "source": [
    "stock_data.info()"
   ]
  },
  {
   "cell_type": "markdown",
   "id": "b53673d9-5e55-483d-84ff-7d01363726a0",
   "metadata": {},
   "source": [
    "### Model Building"
   ]
  },
  {
   "cell_type": "code",
   "execution_count": 4,
   "id": "9442e011-ab25-4e04-b35f-ca23fd606539",
   "metadata": {},
   "outputs": [],
   "source": [
    "## identify inputs and target columns.\n",
    "input_cols, target_col_reg = stock_data.columns[:-1], stock_data.columns[-1]\n",
    "inputs_df, targets_reg = stock_data[input_cols].copy(), stock_data[target_col_reg].copy()"
   ]
  },
  {
   "cell_type": "code",
   "execution_count": 5,
   "id": "8c0953a2-339b-4b7d-8740-1cf350f14109",
   "metadata": {},
   "outputs": [],
   "source": [
    "## identify numeric and categorical columns.\n",
    "numeric_cols = inputs_df.columns.tolist()\n",
    "## scale numeric columns.\n",
    "scaler = RobustScaler().fit(inputs_df[numeric_cols])\n",
    "inputs_df[numeric_cols] = scaler.transform(inputs_df[numeric_cols])"
   ]
  },
  {
   "cell_type": "code",
   "execution_count": 6,
   "id": "d9a5ce41-4ec5-439b-92cd-ff19a698d6b6",
   "metadata": {},
   "outputs": [],
   "source": [
    "X = inputs_df\n",
    "y = targets_reg"
   ]
  },
  {
   "cell_type": "code",
   "execution_count": 7,
   "id": "0a574a07-163e-48b7-ad74-73c85dc41fcc",
   "metadata": {},
   "outputs": [],
   "source": [
    "# Splitting data into a training and holdout set\n",
    "X_train, X_test, y_train, y_test = train_test_split(X, y , test_size=0.2, random_state=777)"
   ]
  },
  {
   "cell_type": "code",
   "execution_count": 8,
   "id": "c09c9e36-332c-4806-9e74-b6bd4ed66dc0",
   "metadata": {},
   "outputs": [],
   "source": [
    "def reg_metrics(X_train, X_test, y_train, y_test ,model):\n",
    "        ##  fit our model to the training data.\n",
    "        model.fit(X_train, y_train)   \n",
    "        train_preds = model.predict(X_train)\n",
    "        # Calculate Train RMSE and R2\n",
    "        print(\"Training Scores\")\n",
    "        print(\"------------------------------------------------------\")\n",
    "        print(\"Train RMSE:\", np.sqrt(mean_squared_error(y_train, train_preds)))\n",
    "        print(\"Train MSE:\", mean_squared_error(y_train, train_preds))\n",
    "        print(\"Train MAE:\", mean_absolute_error(y_train, train_preds))\n",
    "        print(\"Train R2:\", r2_score(y_train, train_preds))\n",
    "        print(\"------------------------------------------------------\")\n",
    "        test_preds = model.predict(X_test)\n",
    "        #Calculate Test RMSE and R2\n",
    "        print(\"\\nTesting Scores\")\n",
    "        print(\"------------------------------------------------------\")\n",
    "        print(\"Test RMSE:\", np.sqrt(mean_squared_error(y_test, test_preds))) \n",
    "        print(\"Test MSE:\", mean_squared_error(y_test, test_preds))\n",
    "        print(\"Test MAE:\", mean_absolute_error(y_test, test_preds)) \n",
    "        print(\"Test R2:\", r2_score(y_test, test_preds))"
   ]
  },
  {
   "cell_type": "code",
   "execution_count": 9,
   "id": "8154706e-e705-458b-8ce0-87fc2e7173af",
   "metadata": {},
   "outputs": [
    {
     "name": "stdout",
     "output_type": "stream",
     "text": [
      "Training Scores\n",
      "------------------------------------------------------\n",
      "Train RMSE: 0.19440074604611807\n",
      "Train MSE: 0.03779165006328729\n",
      "Train MAE: 0.1542904866199343\n",
      "Train R2: 0.26274366354045253\n",
      "------------------------------------------------------\n",
      "\n",
      "Testing Scores\n",
      "------------------------------------------------------\n",
      "Test RMSE: 0.22708817066023426\n",
      "Test MSE: 0.05156903725381168\n",
      "Test MAE: 0.17562583940459756\n",
      "Test R2: -0.4237073256618793\n"
     ]
    }
   ],
   "source": [
    "reg_knn = KNeighborsRegressor()\n",
    "reg_metrics(X_train, X_test, y_train, y_test ,reg_knn)"
   ]
  },
  {
   "cell_type": "code",
   "execution_count": 10,
   "id": "4a081de5-e35d-4268-b9ec-7ccdbab8158f",
   "metadata": {},
   "outputs": [
    {
     "name": "stdout",
     "output_type": "stream",
     "text": [
      "Training Scores\n",
      "------------------------------------------------------\n",
      "Train RMSE: 0.08560145163265759\n",
      "Train MSE: 0.007327608521618216\n",
      "Train MAE: 0.06900823227877373\n",
      "Train R2: 0.8570497502858152\n",
      "------------------------------------------------------\n",
      "\n",
      "Testing Scores\n",
      "------------------------------------------------------\n",
      "Test RMSE: 0.1974323635268837\n",
      "Test MSE: 0.03897953816781156\n",
      "Test MAE: 0.14080101027479178\n",
      "Test R2: -0.07613903605168137\n"
     ]
    }
   ],
   "source": [
    "reg_rf = RandomForestRegressor(random_state=0)\n",
    "reg_metrics(X_train, X_test, y_train, y_test ,reg_rf)"
   ]
  },
  {
   "cell_type": "code",
   "execution_count": 11,
   "id": "893432f6-621f-4147-b151-bbc62073a8bb",
   "metadata": {},
   "outputs": [
    {
     "data": {
      "image/png": "[encoded data removed]",
      "text/plain": [
       "<Figure size 800x1400 with 1 Axes>"
      ]
     },
     "metadata": {},
     "output_type": "display_data"
    }
   ],
   "source": [
    "# Get feature importances from the best estimator\n",
    "#importances = best_rf.feature_importances_\n",
    "# Let's look at the feature importances for this model\n",
    "feature_importance = reg_rf.feature_importances_\n",
    "sorted_idx = np.argsort(feature_importance)\n",
    "pos = np.arange(sorted_idx.shape[0]) + .5\n",
    "fig = plt.figure(figsize=(8, 14))\n",
    "plt.subplot(1, 1, 1)\n",
    "plt.barh(pos, feature_importance[sorted_idx], align='center')\n",
    "plt.yticks(pos, np.array(X.columns)[sorted_idx])\n",
    "plt.title('Feature Importance')\n",
    "plt.show()"
   ]
  },
  {
   "cell_type": "markdown",
   "id": "5f28ab48-992e-49cc-96d6-17c56a0a641c",
   "metadata": {},
   "source": [
    "**With only 171 records training a regression model doesn't provide better result. So lets increase the number of data rows with bootstrapping.**"
   ]
  },
  {
   "cell_type": "code",
   "execution_count": 12,
   "id": "422e1e80-c2ad-4343-8e75-679cbbe7ba5b",
   "metadata": {},
   "outputs": [
    {
     "name": "stdout",
     "output_type": "stream",
     "text": [
      "Synthetic Data (Bootstrapping):\n",
      "<class 'pandas.core.frame.DataFrame'>\n",
      "RangeIndex: 1000 entries, 0 to 999\n",
      "Data columns (total 24 columns):\n",
      " #   Column                   Non-Null Count  Dtype  \n",
      "---  ------                   --------------  -----  \n",
      " 0   beta                     1000 non-null   float64\n",
      " 1   bookValue                1000 non-null   float64\n",
      " 2   debtToEquity             1000 non-null   float64\n",
      " 3   dividendRate             1000 non-null   float64\n",
      " 4   dividendYield            1000 non-null   float64\n",
      " 5   earningsGrowth           1000 non-null   float64\n",
      " 6   ebitda                   1000 non-null   float64\n",
      " 7   ebitdaMargins            1000 non-null   float64\n",
      " 8   enterpriseToEbitda       1000 non-null   float64\n",
      " 9   enterpriseToRevenue      1000 non-null   float64\n",
      " 10  grossMargins             1000 non-null   float64\n",
      " 11  heldPercentInsiders      1000 non-null   float64\n",
      " 12  heldPercentInstitutions  1000 non-null   float64\n",
      " 13  operatingMargins         1000 non-null   float64\n",
      " 14  payoutRatio              1000 non-null   float64\n",
      " 15  priceToBook              1000 non-null   float64\n",
      " 16  profitMargins            1000 non-null   float64\n",
      " 17  revenueGrowth            1000 non-null   float64\n",
      " 18  sharesOutstanding        1000 non-null   float64\n",
      " 19  trailingEps              1000 non-null   float64\n",
      " 20  PE                       1000 non-null   float64\n",
      " 21  ROE                      1000 non-null   float64\n",
      " 22  ROCE                     1000 non-null   float64\n",
      " 23  log_return               1000 non-null   float64\n",
      "dtypes: float64(24)\n",
      "memory usage: 187.6 KB\n"
     ]
    }
   ],
   "source": [
    "# Generate synthetic data using bootstrapping\n",
    "n_samples = 1000  # Number of synthetic samples to generate\n",
    "indices = np.random.choice(stock_data.index, size=n_samples, replace=True)\n",
    "synthetic_features_bootstrap = stock_data.loc[indices].reset_index(drop=True)\n",
    "\n",
    "# Print synthetic data\n",
    "print(\"Synthetic Data (Bootstrapping):\")\n",
    "synthetic_features_bootstrap.info()"
   ]
  },
  {
   "cell_type": "code",
   "execution_count": 13,
   "id": "07addf39-6e79-485d-8078-b28521f0374a",
   "metadata": {},
   "outputs": [],
   "source": [
    "## identify inputs and target columns.\n",
    "input_cols, target_col_reg = synthetic_features_bootstrap.columns[:-1], synthetic_features_bootstrap.columns[-1]\n",
    "inputs_synthetic_df, targets_synthetic_reg = synthetic_features_bootstrap[input_cols].copy(), synthetic_features_bootstrap[target_col_reg].copy()"
   ]
  },
  {
   "cell_type": "code",
   "execution_count": 14,
   "id": "c7dad64a-30c9-4292-b14f-1b1f0020f72d",
   "metadata": {},
   "outputs": [],
   "source": [
    "## identify numeric and categorical columns.\n",
    "numeric_cols = inputs_synthetic_df.columns.tolist()\n",
    "## scale numeric columns.\n",
    "scaler = RobustScaler().fit(inputs_synthetic_df[numeric_cols])\n",
    "inputs_synthetic_df[numeric_cols] = scaler.transform(inputs_synthetic_df[numeric_cols])"
   ]
  },
  {
   "cell_type": "code",
   "execution_count": 15,
   "id": "58db5c83-8dbc-4900-822e-4e40837c5504",
   "metadata": {},
   "outputs": [],
   "source": [
    "X_new = inputs_synthetic_df\n",
    "y_reg = targets_synthetic_reg"
   ]
  },
  {
   "cell_type": "code",
   "execution_count": 16,
   "id": "5dc54dcd-f26a-434a-b9eb-50496cff15d8",
   "metadata": {},
   "outputs": [],
   "source": [
    "# Splitting data into a training and holdout set\n",
    "X_train, X_test, y_train, y_test = train_test_split(X_new, y_reg, test_size=0.2, random_state=777)"
   ]
  },
  {
   "cell_type": "code",
   "execution_count": 17,
   "id": "5b9464ea-51a4-47ad-8250-3de97c61aa9e",
   "metadata": {},
   "outputs": [
    {
     "name": "stdout",
     "output_type": "stream",
     "text": [
      "Training Scores\n",
      "------------------------------------------------------\n",
      "Train RMSE: 0.06092632025133694\n",
      "Train MSE: 0.00371201649936847\n",
      "Train MAE: 0.024980112485026122\n",
      "Train R2: 0.9194764058204131\n",
      "------------------------------------------------------\n",
      "\n",
      "Testing Scores\n",
      "------------------------------------------------------\n",
      "Test RMSE: 0.07399347849296684\n",
      "Test MSE: 0.005475034859489145\n",
      "Test MAE: 0.03348773102931852\n",
      "Test R2: 0.8738661294560249\n"
     ]
    }
   ],
   "source": [
    "reg_kn = KNeighborsRegressor(n_neighbors=5)\n",
    "reg_metrics(X_train, X_test, y_train, y_test ,reg_kn)"
   ]
  },
  {
   "cell_type": "code",
   "execution_count": 18,
   "id": "72f40b96-643a-4c2f-bdc4-8c6bc547fe42",
   "metadata": {},
   "outputs": [
    {
     "name": "stdout",
     "output_type": "stream",
     "text": [
      "Training Scores\n",
      "------------------------------------------------------\n",
      "Train RMSE: 0.010211646796740635\n",
      "Train MSE: 0.00010427773030138326\n",
      "Train MAE: 0.0035480320674936994\n",
      "Train R2: 0.9977379363377868\n",
      "------------------------------------------------------\n",
      "\n",
      "Testing Scores\n",
      "------------------------------------------------------\n",
      "Test RMSE: 0.017659865234272206\n",
      "Test MSE: 0.00031187084009265615\n",
      "Test MAE: 0.0057868905799676055\n",
      "Test R2: 0.9928151185918918\n"
     ]
    }
   ],
   "source": [
    "reg_rf = RandomForestRegressor(random_state=0)\n",
    "reg_metrics(X_train, X_test, y_train, y_test ,reg_rf)"
   ]
  },
  {
   "cell_type": "markdown",
   "id": "25c225fe-c7ca-4dcf-9235-ffc2ea247404",
   "metadata": {},
   "source": [
    "#### Conclusion"
   ]
  },
  {
   "cell_type": "markdown",
   "id": "674b7190-a154-459e-908a-600cd33a35ac",
   "metadata": {},
   "source": [
    "**Financial markets are complex and influenced by numerous unforeseen factors, making prediction inherently challenging.\n",
    "Stock fundamentals can provide valuable insights, forecasting stock returns involves complexities and uncertainties, and results should be interpreted cautiously.**"
   ]
  },
  {
   "cell_type": "markdown",
   "id": "3951360f-ea89-44fe-a44e-9681aca4a3dc",
   "metadata": {},
   "source": [
    "--------------------------------------------------------------------------------------------------------------------------------"
   ]
  }
 ],
 "metadata": {
  "kernelspec": {
   "display_name": "Python 3 (ipykernel)",
   "language": "python",
   "name": "python3"
  },
  "language_info": {
   "codemirror_mode": {
    "name": "ipython",
    "version": 3
   },
   "file_extension": ".py",
   "mimetype": "text/x-python",
   "name": "python",
   "nbconvert_exporter": "python",
   "pygments_lexer": "ipython3",
   "version": "3.12.4"
  }
 },
 "nbformat": 4,
 "nbformat_minor": 5
}
